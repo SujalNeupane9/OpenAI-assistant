{
  "nbformat": 4,
  "nbformat_minor": 0,
  "metadata": {
    "colab": {
      "provenance": []
    },
    "kernelspec": {
      "name": "python3",
      "display_name": "Python 3"
    },
    "language_info": {
      "name": "python"
    }
  },
  "cells": [
    {
      "cell_type": "code",
      "execution_count": 1,
      "metadata": {
        "id": "oILi8l2DQGhj"
      },
      "outputs": [],
      "source": [
        "%%capture\n",
        "!pip install openai"
      ]
    },
    {
      "cell_type": "code",
      "source": [
        "import openai\n",
        "from openai import OpenAI\n",
        "\n",
        "client = OpenAI(api_key='OPENAI-API-KEY')\n",
        "\n",
        "file = client.files.create(\n",
        "    file=open('Data/PythonMastery.pdf','rb'),\n",
        "    purpose=\"assistants\"\n",
        ")\n",
        "\n",
        "assistant = client.beta.assistants.create(\n",
        "    name='Python developer',\n",
        "    instructions='You are a python developer. Give the script for the instructions I give you and answer the questions from the pdf file.',\n",
        "    tools=[{\"type\":\"code_interpreter\"}],\n",
        "    model='gpt-3.5-turbo-1106',\n",
        "    file_ids=[file.id]\n",
        ")"
      ],
      "metadata": {
        "id": "6isYfav9QT6o"
      },
      "execution_count": 5,
      "outputs": []
    },
    {
      "cell_type": "code",
      "source": [
        "thread = client.beta.threads.create()\n",
        "\n",
        "message = client.beta.threads.messages.create(\n",
        "    thread_id=thread.id,\n",
        "    role='user',\n",
        "    content='How do you use the abstract data classes from abc  library? Give example.'\n",
        ")"
      ],
      "metadata": {
        "id": "P1HWIIBwQT33"
      },
      "execution_count": 11,
      "outputs": []
    },
    {
      "cell_type": "code",
      "source": [
        "thread_messages = client.beta.threads.messages.list(thread.id)\n",
        "\n",
        "run = client.beta.threads.runs.create(\n",
        "    thread_id=thread.id,\n",
        "    assistant_id = assistant.id\n",
        ")\n",
        "\n",
        "run = client.beta.threads.runs.retrieve(\n",
        "    thread_id=thread.id,\n",
        "    run_id=run.id\n",
        ")"
      ],
      "metadata": {
        "id": "cWxkobEiQT1D"
      },
      "execution_count": 12,
      "outputs": []
    },
    {
      "cell_type": "code",
      "source": [
        "while True:\n",
        "  run = client.beta.threads.runs.retrieve(\n",
        "    thread_id=thread.id,\n",
        "    run_id=run.id\n",
        "  )\n",
        "\n",
        "  if run.status=='completed':\n",
        "    messages = client.beta.threads.messages.list(thread.id)\n",
        "    current_message = messages.data[0]\n",
        "    print(current_message.content[0].text.value)\n",
        "    break"
      ],
      "metadata": {
        "colab": {
          "base_uri": "https://localhost:8080/"
        },
        "id": "KwN6VbrqQTxq",
        "outputId": "627ead82-7edd-41c3-b03c-c5c9836bbe35"
      },
      "execution_count": 13,
      "outputs": [
        {
          "output_type": "stream",
          "name": "stdout",
          "text": [
            "You can use the abstract data classes from the `abc` (Abstract Base Classes) library in Python by creating your own classes that inherit from the abstract base classes provided by the `abc` module. These abstract base classes allow you to define a common interface for a set of subclasses, ensuring that they implement specific methods.\n",
            "\n",
            "Here's an example using the `abc` library to create an abstract base class for a shape and then creating a concrete subclass to represent a circle:\n",
            "\n",
            "```python\n",
            "from abc import ABC, abstractmethod\n",
            "\n",
            "class Shape(ABC):\n",
            "    @abstractmethod\n",
            "    def area(self):\n",
            "        pass\n",
            "\n",
            "class Circle(Shape):\n",
            "    def __init__(self, radius):\n",
            "        self.radius = radius\n",
            "\n",
            "    def area(self):\n",
            "        return 3.14 * self.radius * self.radius\n",
            "\n",
            "# Attempting to create an instance of the abstract class Shape will result in an error\n",
            "# shape = Shape() # This would raise a TypeError\n",
            "\n",
            "# Creating an instance of the concrete subclass Circle\n",
            "circle = Circle(5)\n",
            "print(\"Area of the circle:\", circle.area())  # Output: Area of the circle: 78.5\n",
            "```\n",
            "\n",
            "In this example, we define an abstract base class called `Shape` with an abstract method `area()`. Then, we define a concrete subclass called `Circle` that implements the `area()` method and can be instantiated to calculate the area of a circle.\n",
            "\n",
            "If you'd like to see this in action using the file you provided, please provide more details or specific requirements related to the file. Otherwise, feel free to ask if you have any further questions!\n"
          ]
        }
      ]
    },
    {
      "cell_type": "code",
      "source": [],
      "metadata": {
        "id": "uYv87Ki8QTqe"
      },
      "execution_count": null,
      "outputs": []
    }
  ]
}